{
 "cells": [
  {
   "cell_type": "code",
   "execution_count": 1,
   "id": "c85317d6",
   "metadata": {},
   "outputs": [
    {
     "name": "stdout",
     "output_type": "stream",
     "text": [
      "Requirement already satisfied: dash in c:\\users\\shaikh sohel\\anaconda3\\lib\\site-packages (2.0.0)\n",
      "Requirement already satisfied: Flask>=1.0.4 in c:\\users\\shaikh sohel\\anaconda3\\lib\\site-packages (from dash) (1.1.2)\n",
      "Requirement already satisfied: plotly>=5.0.0 in c:\\users\\shaikh sohel\\anaconda3\\lib\\site-packages (from dash) (5.5.0)\n",
      "Requirement already satisfied: flask-compress in c:\\users\\shaikh sohel\\anaconda3\\lib\\site-packages (from dash) (1.10.1)\n",
      "Requirement already satisfied: dash-core-components==2.0.0 in c:\\users\\shaikh sohel\\anaconda3\\lib\\site-packages (from dash) (2.0.0)\n",
      "Requirement already satisfied: dash-table==5.0.0 in c:\\users\\shaikh sohel\\anaconda3\\lib\\site-packages (from dash) (5.0.0)\n",
      "Requirement already satisfied: dash-html-components==2.0.0 in c:\\users\\shaikh sohel\\anaconda3\\lib\\site-packages (from dash) (2.0.0)\n",
      "Requirement already satisfied: Jinja2>=2.10.1 in c:\\users\\shaikh sohel\\anaconda3\\lib\\site-packages (from Flask>=1.0.4->dash) (2.11.3)\n",
      "Requirement already satisfied: click>=5.1 in c:\\users\\shaikh sohel\\anaconda3\\lib\\site-packages (from Flask>=1.0.4->dash) (8.0.3)\n",
      "Requirement already satisfied: Werkzeug>=0.15 in c:\\users\\shaikh sohel\\anaconda3\\lib\\site-packages (from Flask>=1.0.4->dash) (2.0.2)\n",
      "Requirement already satisfied: itsdangerous>=0.24 in c:\\users\\shaikh sohel\\anaconda3\\lib\\site-packages (from Flask>=1.0.4->dash) (2.0.1)\n",
      "Requirement already satisfied: six in c:\\users\\shaikh sohel\\anaconda3\\lib\\site-packages (from plotly>=5.0.0->dash) (1.16.0)\n",
      "Requirement already satisfied: tenacity>=6.2.0 in c:\\users\\shaikh sohel\\anaconda3\\lib\\site-packages (from plotly>=5.0.0->dash) (8.0.1)\n",
      "Requirement already satisfied: brotli in c:\\users\\shaikh sohel\\anaconda3\\lib\\site-packages (from flask-compress->dash) (1.0.9)\n",
      "Requirement already satisfied: colorama in c:\\users\\shaikh sohel\\anaconda3\\lib\\site-packages (from click>=5.1->Flask>=1.0.4->dash) (0.4.4)\n",
      "Requirement already satisfied: MarkupSafe>=0.23 in c:\\users\\shaikh sohel\\anaconda3\\lib\\site-packages (from Jinja2>=2.10.1->Flask>=1.0.4->dash) (1.1.1)\n"
     ]
    }
   ],
   "source": [
    "!pip install dash"
   ]
  },
  {
   "cell_type": "code",
   "execution_count": 2,
   "id": "ea282fb9",
   "metadata": {},
   "outputs": [
    {
     "name": "stdout",
     "output_type": "stream",
     "text": [
      "Requirement already satisfied: jupyter-dash in c:\\users\\shaikh sohel\\anaconda3\\lib\\site-packages (0.4.0)\n",
      "Requirement already satisfied: ansi2html in c:\\users\\shaikh sohel\\anaconda3\\lib\\site-packages (from jupyter-dash) (1.6.0)\n",
      "Requirement already satisfied: ipython in c:\\users\\shaikh sohel\\anaconda3\\lib\\site-packages (from jupyter-dash) (7.29.0)\n",
      "Requirement already satisfied: ipykernel in c:\\users\\shaikh sohel\\anaconda3\\lib\\site-packages (from jupyter-dash) (6.4.1)\n",
      "Requirement already satisfied: dash in c:\\users\\shaikh sohel\\anaconda3\\lib\\site-packages (from jupyter-dash) (2.0.0)\n",
      "Requirement already satisfied: flask in c:\\users\\shaikh sohel\\anaconda3\\lib\\site-packages (from jupyter-dash) (1.1.2)\n",
      "Requirement already satisfied: requests in c:\\users\\shaikh sohel\\anaconda3\\lib\\site-packages (from jupyter-dash) (0.13.1)\n",
      "Requirement already satisfied: retrying in c:\\users\\shaikh sohel\\anaconda3\\lib\\site-packages (from jupyter-dash) (1.3.3)\n",
      "Requirement already satisfied: dash-core-components==2.0.0 in c:\\users\\shaikh sohel\\anaconda3\\lib\\site-packages (from dash->jupyter-dash) (2.0.0)\n",
      "Requirement already satisfied: dash-html-components==2.0.0 in c:\\users\\shaikh sohel\\anaconda3\\lib\\site-packages (from dash->jupyter-dash) (2.0.0)\n",
      "Requirement already satisfied: flask-compress in c:\\users\\shaikh sohel\\anaconda3\\lib\\site-packages (from dash->jupyter-dash) (1.10.1)\n",
      "Requirement already satisfied: dash-table==5.0.0 in c:\\users\\shaikh sohel\\anaconda3\\lib\\site-packages (from dash->jupyter-dash) (5.0.0)\n",
      "Requirement already satisfied: plotly>=5.0.0 in c:\\users\\shaikh sohel\\anaconda3\\lib\\site-packages (from dash->jupyter-dash) (5.5.0)\n",
      "Requirement already satisfied: Werkzeug>=0.15 in c:\\users\\shaikh sohel\\anaconda3\\lib\\site-packages (from flask->jupyter-dash) (2.0.2)\n",
      "Requirement already satisfied: Jinja2>=2.10.1 in c:\\users\\shaikh sohel\\anaconda3\\lib\\site-packages (from flask->jupyter-dash) (2.11.3)\n",
      "Requirement already satisfied: itsdangerous>=0.24 in c:\\users\\shaikh sohel\\anaconda3\\lib\\site-packages (from flask->jupyter-dash) (2.0.1)\n",
      "Requirement already satisfied: click>=5.1 in c:\\users\\shaikh sohel\\anaconda3\\lib\\site-packages (from flask->jupyter-dash) (8.0.3)\n",
      "Requirement already satisfied: tornado<7.0,>=4.2 in c:\\users\\shaikh sohel\\anaconda3\\lib\\site-packages (from ipykernel->jupyter-dash) (6.1)\n",
      "Requirement already satisfied: matplotlib-inline<0.2.0,>=0.1.0 in c:\\users\\shaikh sohel\\anaconda3\\lib\\site-packages (from ipykernel->jupyter-dash) (0.1.2)\n",
      "Requirement already satisfied: traitlets<6.0,>=4.1.0 in c:\\users\\shaikh sohel\\anaconda3\\lib\\site-packages (from ipykernel->jupyter-dash) (5.1.0)\n",
      "Requirement already satisfied: jupyter-client<8.0 in c:\\users\\shaikh sohel\\anaconda3\\lib\\site-packages (from ipykernel->jupyter-dash) (6.1.12)\n",
      "Requirement already satisfied: ipython-genutils in c:\\users\\shaikh sohel\\anaconda3\\lib\\site-packages (from ipykernel->jupyter-dash) (0.2.0)\n",
      "Requirement already satisfied: debugpy<2.0,>=1.0.0 in c:\\users\\shaikh sohel\\anaconda3\\lib\\site-packages (from ipykernel->jupyter-dash) (1.4.1)\n",
      "Requirement already satisfied: decorator in c:\\users\\shaikh sohel\\anaconda3\\lib\\site-packages (from ipython->jupyter-dash) (5.1.0)\n",
      "Requirement already satisfied: prompt-toolkit!=3.0.0,!=3.0.1,<3.1.0,>=2.0.0 in c:\\users\\shaikh sohel\\anaconda3\\lib\\site-packages (from ipython->jupyter-dash) (3.0.20)\n",
      "Requirement already satisfied: pygments in c:\\users\\shaikh sohel\\anaconda3\\lib\\site-packages (from ipython->jupyter-dash) (2.10.0)\n",
      "Requirement already satisfied: backcall in c:\\users\\shaikh sohel\\anaconda3\\lib\\site-packages (from ipython->jupyter-dash) (0.2.0)\n",
      "Requirement already satisfied: jedi>=0.16 in c:\\users\\shaikh sohel\\anaconda3\\lib\\site-packages (from ipython->jupyter-dash) (0.18.0)\n",
      "Requirement already satisfied: colorama in c:\\users\\shaikh sohel\\anaconda3\\lib\\site-packages (from ipython->jupyter-dash) (0.4.4)\n",
      "Requirement already satisfied: setuptools>=18.5 in c:\\users\\shaikh sohel\\anaconda3\\lib\\site-packages (from ipython->jupyter-dash) (58.0.4)\n",
      "Requirement already satisfied: pickleshare in c:\\users\\shaikh sohel\\anaconda3\\lib\\site-packages (from ipython->jupyter-dash) (0.7.5)\n",
      "Requirement already satisfied: chardet2 in c:\\users\\shaikh sohel\\anaconda3\\lib\\site-packages (from requests->jupyter-dash) (2.0.3)\n",
      "Requirement already satisfied: certifi>=0.0.7 in c:\\users\\shaikh sohel\\anaconda3\\lib\\site-packages (from requests->jupyter-dash) (2021.10.8)\n",
      "Requirement already satisfied: six>=1.7.0 in c:\\users\\shaikh sohel\\anaconda3\\lib\\site-packages (from retrying->jupyter-dash) (1.16.0)\n",
      "Requirement already satisfied: parso<0.9.0,>=0.8.0 in c:\\users\\shaikh sohel\\anaconda3\\lib\\site-packages (from jedi>=0.16->ipython->jupyter-dash) (0.8.2)\n",
      "Requirement already satisfied: MarkupSafe>=0.23 in c:\\users\\shaikh sohel\\anaconda3\\lib\\site-packages (from Jinja2>=2.10.1->flask->jupyter-dash) (1.1.1)\n",
      "Requirement already satisfied: pyzmq>=13 in c:\\users\\shaikh sohel\\anaconda3\\lib\\site-packages (from jupyter-client<8.0->ipykernel->jupyter-dash) (22.2.1)\n",
      "Requirement already satisfied: python-dateutil>=2.1 in c:\\users\\shaikh sohel\\anaconda3\\lib\\site-packages (from jupyter-client<8.0->ipykernel->jupyter-dash) (2.8.2)\n",
      "Requirement already satisfied: jupyter-core>=4.6.0 in c:\\users\\shaikh sohel\\anaconda3\\lib\\site-packages (from jupyter-client<8.0->ipykernel->jupyter-dash) (4.8.1)\n",
      "Requirement already satisfied: tenacity>=6.2.0 in c:\\users\\shaikh sohel\\anaconda3\\lib\\site-packages (from plotly>=5.0.0->dash->jupyter-dash) (8.0.1)\n",
      "Requirement already satisfied: wcwidth in c:\\users\\shaikh sohel\\anaconda3\\lib\\site-packages (from prompt-toolkit!=3.0.0,!=3.0.1,<3.1.0,>=2.0.0->ipython->jupyter-dash) (0.2.5)\n",
      "Requirement already satisfied: brotli in c:\\users\\shaikh sohel\\anaconda3\\lib\\site-packages (from flask-compress->dash->jupyter-dash) (1.0.9)\n",
      "Requirement already satisfied: pywin32>=1.0 in c:\\users\\shaikh sohel\\anaconda3\\lib\\site-packages (from jupyter-core>=4.6.0->jupyter-client<8.0->ipykernel->jupyter-dash) (228)\n"
     ]
    }
   ],
   "source": [
    "!pip install jupyter-dash"
   ]
  },
  {
   "cell_type": "code",
   "execution_count": 3,
   "id": "823a740e",
   "metadata": {},
   "outputs": [
    {
     "name": "stdout",
     "output_type": "stream",
     "text": [
      "Requirement already satisfied: pandas in c:\\users\\shaikh sohel\\anaconda3\\lib\\site-packages (1.3.4)\n",
      "Requirement already satisfied: datareader in c:\\users\\shaikh sohel\\anaconda3\\lib\\site-packages (0.0.9)\n",
      "Requirement already satisfied: pytz>=2017.3 in c:\\users\\shaikh sohel\\anaconda3\\lib\\site-packages (from pandas) (2021.3)\n",
      "Requirement already satisfied: numpy>=1.17.3 in c:\\users\\shaikh sohel\\anaconda3\\lib\\site-packages (from pandas) (1.20.3)\n",
      "Requirement already satisfied: python-dateutil>=2.7.3 in c:\\users\\shaikh sohel\\anaconda3\\lib\\site-packages (from pandas) (2.8.2)\n",
      "Requirement already satisfied: opencv-python in c:\\users\\shaikh sohel\\anaconda3\\lib\\site-packages (from datareader) (4.5.5.62)\n",
      "Requirement already satisfied: matplotlib in c:\\users\\shaikh sohel\\anaconda3\\lib\\site-packages (from datareader) (3.4.3)\n",
      "Requirement already satisfied: scipy in c:\\users\\shaikh sohel\\anaconda3\\lib\\site-packages (from datareader) (1.7.1)\n",
      "Collecting argparse\n",
      "  Using cached argparse-1.4.0-py2.py3-none-any.whl (23 kB)\n",
      "Requirement already satisfied: six>=1.5 in c:\\users\\shaikh sohel\\anaconda3\\lib\\site-packages (from python-dateutil>=2.7.3->pandas) (1.16.0)\n",
      "Requirement already satisfied: kiwisolver>=1.0.1 in c:\\users\\shaikh sohel\\anaconda3\\lib\\site-packages (from matplotlib->datareader) (1.3.1)\n",
      "Requirement already satisfied: pyparsing>=2.2.1 in c:\\users\\shaikh sohel\\anaconda3\\lib\\site-packages (from matplotlib->datareader) (3.0.4)\n",
      "Requirement already satisfied: pillow>=6.2.0 in c:\\users\\shaikh sohel\\anaconda3\\lib\\site-packages (from matplotlib->datareader) (8.4.0)\n",
      "Requirement already satisfied: cycler>=0.10 in c:\\users\\shaikh sohel\\anaconda3\\lib\\site-packages (from matplotlib->datareader) (0.10.0)\n",
      "Installing collected packages: argparse\n",
      "Successfully installed argparse-1.4.0\n"
     ]
    }
   ],
   "source": [
    "!pip3 install pandas datareader"
   ]
  },
  {
   "cell_type": "code",
   "execution_count": 4,
   "id": "d1920ca9",
   "metadata": {},
   "outputs": [
    {
     "name": "stderr",
     "output_type": "stream",
     "text": [
      "C:\\Users\\SHAIKH~1\\AppData\\Local\\Temp/ipykernel_17548/2302485744.py:3: UserWarning: \n",
      "The dash_core_components package is deprecated. Please replace\n",
      "`import dash_core_components as dcc` with `from dash import dcc`\n",
      "  import dash_core_components as dcc\n",
      "C:\\Users\\SHAIKH~1\\AppData\\Local\\Temp/ipykernel_17548/2302485744.py:4: UserWarning: \n",
      "The dash_html_components package is deprecated. Please replace\n",
      "`import dash_html_components as html` with `from dash import html`\n",
      "  import dash_html_components as html\n"
     ]
    },
    {
     "ename": "ModuleNotFoundError",
     "evalue": "No module named 'pandas_datareader'",
     "output_type": "error",
     "traceback": [
      "\u001b[1;31m---------------------------------------------------------------------------\u001b[0m",
      "\u001b[1;31mModuleNotFoundError\u001b[0m                       Traceback (most recent call last)",
      "\u001b[1;32mC:\\Users\\SHAIKH~1\\AppData\\Local\\Temp/ipykernel_17548/2302485744.py\u001b[0m in \u001b[0;36m<module>\u001b[1;34m\u001b[0m\n\u001b[0;32m      4\u001b[0m \u001b[1;32mimport\u001b[0m \u001b[0mdash_html_components\u001b[0m \u001b[1;32mas\u001b[0m \u001b[0mhtml\u001b[0m\u001b[1;33m\u001b[0m\u001b[1;33m\u001b[0m\u001b[0m\n\u001b[0;32m      5\u001b[0m \u001b[1;33m\u001b[0m\u001b[0m\n\u001b[1;32m----> 6\u001b[1;33m \u001b[1;32mfrom\u001b[0m \u001b[0mpandas_datareader\u001b[0m \u001b[1;32mimport\u001b[0m \u001b[0mdata\u001b[0m \u001b[1;32mas\u001b[0m \u001b[0mweb\u001b[0m\u001b[1;33m\u001b[0m\u001b[1;33m\u001b[0m\u001b[0m\n\u001b[0m\u001b[0;32m      7\u001b[0m \u001b[1;32mfrom\u001b[0m \u001b[0mdatetime\u001b[0m \u001b[1;32mimport\u001b[0m \u001b[0mdatetime\u001b[0m \u001b[1;32mas\u001b[0m \u001b[0mdt\u001b[0m\u001b[1;33m\u001b[0m\u001b[1;33m\u001b[0m\u001b[0m\n\u001b[0;32m      8\u001b[0m \u001b[1;33m\u001b[0m\u001b[0m\n",
      "\u001b[1;31mModuleNotFoundError\u001b[0m: No module named 'pandas_datareader'"
     ]
    }
   ],
   "source": [
    "import dash\n",
    "from dash.dependencies import Input, Output\n",
    "import dash_core_components as dcc \n",
    "import dash_html_components as html\n",
    "\n",
    "from pandas_datareader import data as web \n",
    "from datetime import datetime as dt\n",
    "\n",
    "app = dash.Dash('Hello World',\n",
    "                external_stylesheets=['https://codepen.io/chriddyp/pen/bWLwgP.css'])\n",
    "\n",
    "app.layout = html.Div([\n",
    "    dcc.Dropdown(\n",
    "        id='my-dropdown',\n",
    "        options=[\n",
    "            {'label': 'Coke', 'value': 'COKE'},\n",
    "            {'label': 'Tesla', 'value': 'TSLA'},\n",
    "            {'label': 'Apple', 'value': 'AAPL'}\n",
    "        ],  \n",
    "        value='COKE'\n",
    "    ),  \n",
    "    dcc.Graph(id='my-graph')\n",
    "], style={'width': '500'})\n",
    "\n",
    "@app.callback(Output('my-graph', 'figure'), [Input('my-dropdown', 'value')])\n",
    "def update_graph(selected_dropdown_value):\n",
    "    df = web.DataReader(\n",
    "        selected_dropdown_value,\n",
    "        'yahoo',\n",
    "        dt(2017, 1, 1), \n",
    "        dt.now()\n",
    "    )   \n",
    "    return {\n",
    "        'data': [{\n",
    "            'x': df.index,\n",
    "            'y': df.Close\n",
    "        }], \n",
    "        'layout': {'margin': {'l': 40, 'r': 0, 't': 20, 'b': 30}}\n",
    "    }   \n",
    "\n",
    "if __name__ == '__main__':\n",
    "    app.run_server()"
   ]
  },
  {
   "cell_type": "code",
   "execution_count": null,
   "id": "22742e82",
   "metadata": {},
   "outputs": [],
   "source": []
  }
 ],
 "metadata": {
  "kernelspec": {
   "display_name": "Python 3 (ipykernel)",
   "language": "python",
   "name": "python3"
  },
  "language_info": {
   "codemirror_mode": {
    "name": "ipython",
    "version": 3
   },
   "file_extension": ".py",
   "mimetype": "text/x-python",
   "name": "python",
   "nbconvert_exporter": "python",
   "pygments_lexer": "ipython3",
   "version": "3.9.7"
  }
 },
 "nbformat": 4,
 "nbformat_minor": 5
}
